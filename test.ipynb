{
 "cells": [
  {
   "cell_type": "code",
   "execution_count": 18,
   "metadata": {},
   "outputs": [
    {
     "name": "stdout",
     "output_type": "stream",
     "text": [
      "MySQL database connected successfully\n"
     ]
    },
    {
     "data": {
      "text/plain": [
       "<bound method DataFrame.items of            sleep_time           wake_time  duration\n",
       "0 2023-04-06 00:00:00 2023-04-06 04:24:00      5.65\n",
       "1 2023-04-05 22:44:00 2023-04-05 23:59:00      5.65\n",
       "2 2023-04-05 00:00:00 2023-04-05 06:06:00      7.88\n",
       "3 2023-04-04 22:13:00 2023-04-04 23:59:00      7.88\n",
       "4 2023-04-04 00:00:00 2023-04-04 03:18:00      8.00>"
      ]
     },
     "execution_count": 18,
     "metadata": {},
     "output_type": "execute_result"
    }
   ],
   "source": [
    "import json\n",
    "import mysql.connector\n",
    "from mysql.connector import errorcode\n",
    "from dotenv import load_dotenv\n",
    "import os\n",
    "import pandas as pd\n",
    "\n",
    "file: str = './output/SDV.json'\n",
    "load_dotenv()\n",
    "\n",
    "def read_json(_file: str):\n",
    "    with open(_file, 'r') as j:\n",
    "        _records: list = json.loads(j.read())['sleep_record']\n",
    "    return _records\n",
    "\n",
    "# Establish a connection to the database\n",
    "db = mysql.connector.connect(\n",
    "  host=os.getenv(\"DB_HOST\"),\n",
    "  user=os.getenv(\"DB_USER\"),\n",
    "  password=os.getenv(\"DB_PASSWORD\"),\n",
    "  database=os.getenv(\"DB_NAME\"),\n",
    "  port=os.getenv(\"DB_PORT\")\n",
    ")\n",
    "\n",
    "try:\n",
    "    # Create a cursor object to execute SQL queries\n",
    "    mycursor = db.cursor()\n",
    "    print(\"MySQL database connected successfully\")\n",
    "except mysql.connector.Error as err:\n",
    "    if err.errno == errorcode.ER_ACCESS_DENIED_ERROR:\n",
    "        print(\"Something is wrong with your user name or password\")\n",
    "    elif err.errno == errorcode.ER_BAD_DB_ERROR:\n",
    "        print(\"Database does not exist\")\n",
    "    else:\n",
    "        print(err)\n"
   ]
  },
  {
   "cell_type": "code",
   "execution_count": 49,
   "metadata": {},
   "outputs": [
    {
     "name": "stdout",
     "output_type": "stream",
     "text": [
      "sleep_time\n",
      "2023-04-06 00:00:00\n",
      "2023-04-05 22:44:00\n",
      "2023-04-05 00:00:00\n",
      "2023-04-04 22:13:00\n",
      "2023-04-04 00:00:00\n",
      "wake_time\n",
      "2023-04-06 04:24:00\n",
      "2023-04-05 23:59:00\n",
      "2023-04-05 06:06:00\n",
      "2023-04-04 23:59:00\n",
      "2023-04-04 03:18:00\n",
      "duration\n",
      "5.65\n",
      "5.65\n",
      "7.88\n",
      "7.88\n",
      "8.0\n",
      "[Timestamp('2023-04-06 00:00:00'), Timestamp('2023-04-05 22:44:00'), Timestamp('2023-04-05 00:00:00'), Timestamp('2023-04-04 22:13:00'), Timestamp('2023-04-04 00:00:00'), Timestamp('2023-04-06 04:24:00'), Timestamp('2023-04-05 23:59:00'), Timestamp('2023-04-05 06:06:00'), Timestamp('2023-04-04 23:59:00'), Timestamp('2023-04-04 03:18:00'), 5.65, 5.65, 7.88, 7.88, 8.0]\n"
     ]
    }
   ],
   "source": [
    "query = \"SELECT sleep_time, wake_time, duration FROM sleep_data ORDER BY id DESC LIMIT 5\"\n",
    "origin_df = pd.read_sql(query, db)\n",
    "# origin_df\n",
    "# print(origin_df['sleep_time'])\n",
    "# origin_df.keys()\n",
    "d = []\n",
    "for i in origin_df.keys():\n",
    "    print(i)\n",
    "    for j in origin_df[i]:\n",
    "        d.append(j)\n",
    "        print(j)\n",
    "# [{'{}'.format(i): (j) for i in origin_df.keys()} for j in origin_df[i]]\n",
    "print(d)"
   ]
  },
  {
   "cell_type": "code",
   "execution_count": null,
   "metadata": {},
   "outputs": [],
   "source": []
  }
 ],
 "metadata": {
  "kernelspec": {
   "display_name": "base",
   "language": "python",
   "name": "python3"
  },
  "language_info": {
   "codemirror_mode": {
    "name": "ipython",
    "version": 3
   },
   "file_extension": ".py",
   "mimetype": "text/x-python",
   "name": "python",
   "nbconvert_exporter": "python",
   "pygments_lexer": "ipython3",
   "version": "3.9.7"
  },
  "orig_nbformat": 4
 },
 "nbformat": 4,
 "nbformat_minor": 2
}
