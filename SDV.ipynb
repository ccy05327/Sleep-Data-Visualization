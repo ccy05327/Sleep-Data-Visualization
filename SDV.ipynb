{
 "cells": [
  {
   "cell_type": "code",
   "execution_count": 13,
   "metadata": {},
   "outputs": [],
   "source": [
    "import plotly.figure_factory as ff\n",
    "import plotly.graph_objs as go\n",
    "import plotly.express as px\n"
   ]
  },
  {
   "cell_type": "markdown",
   "metadata": {},
   "source": [
    "### January Record\n",
    "\n",
    "<details>\n",
    "<summary>January Record</summary>\n",
    "<br>\n",
    "    dict(Task='2/1', Start='2022-02-01 3:39:00', Finish='2022-02-01 7:55:00', Resource='Meh'),\n",
    "    dict(Task='2/1', Start='2022-02-01 9:39:00', Finish='2022-02-01 11:50:00', Resource='Meh'),\n",
    "    dict(Task='2/2', Start='2022-02-01 1:33:00', Finish='2022-02-01 11:45:00', Resource='Meh'),\n",
    "    dict(Task='2/3', Start='2022-02-01 4:22:00', Finish='2022-02-01 11:45:00', Resource='Usual'),\n",
    "    dict(Task='2/4', Start='2022-02-01 4:13:00', Finish='2022-02-01 14:17:00', Resource='More'),\n",
    "    dict(Task='2/5', Start='2022-02-01 9:39:00', Finish='2022-02-01 17:05:00', Resource='Usual'),\n",
    "    dict(Task='2/6', Start='2022-02-01 8:37:00', Finish='2022-02-01 15:45:00', Resource='Usual'),\n",
    "    dict(Task='2/7', Start='2022-02-01 10:48:00', Finish='2022-02-01 18:59:00', Resource='Usual'),\n",
    "    dict(Task='2/8', Start='2022-02-01 10:46:00', Finish='2022-02-01 18:59:00', Resource='Usual'),\n",
    "    dict(Task='2/9', Start='2022-02-01 13:40:00', Finish='2022-02-01 19:20:00', Resource='Lack'),\n",
    "    dict(Task='2/10', Start='2022-02-01 13:52:00', Finish='2022-02-01 22:25:00', Resource='Usual'),\n",
    "    dict(Task='2/11', Start='2022-02-01 19:00:00', Finish='2022-02-01 23:59:00', Resource='Usual'),\n",
    "    dict(Task='2/12', Start='2022-02-01 00:00:00', Finish='2022-02-01 3:50:00', Resource='Usual'),\n",
    "    dict(Task='2/12', Start='2022-02-01 22:04:00', Finish='2022-02-01 23:59:00', Resource='Usual'),\n",
    "    dict(Task='2/13', Start='2022-02-01 00:00:00', Finish='2022-02-01 4:32:00', Resource='Usual'),\n",
    "    dict(Task='2/13', Start='2022-02-01 19:34:00', Finish='2022-02-01 23:59:00', Resource='Usual'),\n",
    "    dict(Task='2/14', Start='2022-02-01 00:00:00', Finish='2022-02-01 5:42:00', Resource='Usual'),\n",
    "    dict(Task='2/14', Start='2022-02-01 22:46:00', Finish='2022-02-01 23:59:00', Resource='Usual'),\n",
    "    dict(Task='2/15', Start='2022-02-01 00:00:00', Finish='2022-02-01 6:52:00', Resource='Usual'),\n",
    "    dict(Task='2/15', Start='2022-02-01 21:30:00', Finish='2022-02-01 23:59:00', Resource='Usual'),\n",
    "    dict(Task='2/16', Start='2022-02-01 00:00:00', Finish='2022-02-01 6:29:00', Resource='Usual'),\n",
    "    dict(Task='2/16', Start='2022-02-01 22:39:00', Finish='2022-02-01 23:59:00', Resource='Usual'),\n",
    "    dict(Task='2/17', Start='2022-02-01 00:00:00', Finish='2022-02-01 6:57:00', Resource='Usual'),\n",
    "    dict(Task='2/17', Start='2022-02-01 23:16:00', Finish='2022-02-01 23:59:00', Resource='Meh'),\n",
    "    dict(Task='2/18', Start='2022-02-01 00:00:00', Finish='2022-02-01 7:59:00', Resource='Meh'),\n",
    "    dict(Task='2/18', Start='2022-02-01 23:08:00', Finish='2022-02-01 23:59:00', Resource='Meh'),\n",
    "    dict(Task='2/19', Start='2022-02-01 00:00:00', Finish='2022-02-01 7:42:00', Resource='Meh'),\n",
    "    dict(Task='2/19', Start='2022-02-01 23:32:00', Finish='2022-02-01 23:59:00', Resource='Meh'),\n",
    "    dict(Task='2/20', Start='2022-02-01 00:00:00', Finish='2022-02-01 7:35:00', Resource='Meh'),\n",
    "    dict(Task='2/20', Start='2022-02-01 23:51:00', Finish='2022-02-01 23:59:00', Resource='Meh'),\n",
    "    dict(Task='2/21', Start='2022-02-01 00:00:00', Finish='2022-02-01 7:46:00', Resource='Meh'),\n",
    "    dict(Task='2/22', Start='2022-02-01 00:40:00', Finish='2022-02-01 7:55:00', Resource='Meh'),\n",
    "    dict(Task='2/22', Start='2022-02-01 23:50:00', Finish='2022-02-01 23:59:00', Resource='Usual'),\n",
    "    dict(Task='2/23', Start='2022-02-01 00:00:00', Finish='2022-02-01 7:57:00', Resource='Usual'),\n",
    "    dict(Task='2/24', Start='2022-02-01 00:12:00', Finish='2022-02-01 7:49:00', Resource='Meh'),\n",
    "    dict(Task='2/25', Start='2022-02-01 01:02:00', Finish='2022-02-01 8:01:00', Resource='Meh'),\n",
    "    dict(Task='2/26', Start='2022-02-01 02:06:00', Finish='2022-02-01 12:10:00', Resource='Usual'),\n",
    "    dict(Task='2/27', Start='2022-02-01 7:51:00', Finish='2022-02-01 12:27:00', Resource='Usual'),\n",
    "    dict(Task='2/28', Start='2022-02-01 10:40:00', Finish='2022-02-01 17:49:00', Resource='Usual'),\n",
    "    dict(Task='2/29', Start='2022-02-01 9:31:00', Finish='2022-02-01 18:02:00', Resource='Meh'),\n",
    "    dict(Task='2/30', Start='2022-02-01 9:59:00', Finish='2022-02-01 18:08:00', Resource='Usual'),\n",
    "    dict(Task='2/31', Start='2022-02-01 08:01:00', Finish='2022-02-01 13:50:00', Resource='Meh')\n",
    "</details>"
   ]
  },
  {
   "cell_type": "code",
   "execution_count": 24,
   "metadata": {},
   "outputs": [
    {
     "data": {
      "application/vnd.plotly.v1+json": {
       "config": {
        "plotlyServerURL": "https://plot.ly"
       },
       "data": [
        {
         "alignmentgroup": "True",
         "base": [
          "2022-02-01 05:22:00",
          "2022-02-01 22:45:00",
          "2022-02-01 00:00:00",
          "2022-02-01 11:38:00",
          "2022-02-01 14:30:00",
          "2022-02-01 16:14:00",
          "2022-02-01 12:53:00",
          "2022-02-01 17:00:00",
          "2022-02-01 00:00:00",
          "2022-02-01 20:00:00",
          "2022-02-01 04:21:00",
          "2022-02-01 19:01:00",
          "2022-02-01 00:00:00",
          "2022-02-01 05:29:00",
          "2022-02-01 22:07:00",
          "2022-02-01 00:00:00",
          "2022-02-01 21:14:00",
          "2022-02-01 00:00:00",
          "2022-02-01 19:00:00",
          "2022-02-01 00:00:00",
          "2022-02-01 23:18:00",
          "2022-02-01 00:00:00",
          "2022-02-01 23:40:00",
          "2022-02-01 00:00:00"
         ],
         "hovertemplate": "Sleep=%{base}<br>Wake=%{x}<br>Date=%{y}<br>Duration=%{marker.color}<extra></extra>",
         "legendgroup": "",
         "marker": {
          "color": [
           3.5,
           5.2,
           5.2,
           6.3,
           6.3,
           6.3,
           5.9,
           8.4,
           8.4,
           2.2,
           4.8,
           5.1,
           5.1,
           5,
           6.7,
           6.7,
           7.25,
           7.25,
           10.08,
           10.08,
           7.1,
           7.1,
           9.65,
           9.65
          ],
          "coloraxis": "coloraxis"
         },
         "name": "",
         "offsetgroup": "",
         "orientation": "h",
         "showlegend": false,
         "textposition": "auto",
         "type": "bar",
         "x": [
          13320000,
          4440000,
          14640000,
          6540000,
          4680000,
          12060000,
          25800000,
          25140000,
          5280000,
          8100000,
          13920000,
          17880000,
          4320000,
          18060000,
          6720000,
          17520000,
          9900000,
          16140000,
          17940000,
          19800000,
          2460000,
          23640000,
          1140000,
          33900000
         ],
         "xaxis": "x",
         "y": [
          "2/1",
          "2/1",
          "2/2",
          "2/2",
          "2/2",
          "2/2",
          "2/3",
          "2/4",
          "2/5",
          "2/5",
          "2/6",
          "2/6",
          "2/7",
          "2/7",
          "2/7",
          "2/8",
          "2/8",
          "2/9",
          "2/9",
          "2/10",
          "2/10",
          "2/11",
          "2/11",
          "2/12"
         ],
         "yaxis": "y"
        }
       ],
       "layout": {
        "barmode": "overlay",
        "coloraxis": {
         "colorbar": {
          "title": {
           "text": "Duration"
          }
         },
         "colorscale": [
          [
           0,
           "#0d0887"
          ],
          [
           0.1111111111111111,
           "#46039f"
          ],
          [
           0.2222222222222222,
           "#7201a8"
          ],
          [
           0.3333333333333333,
           "#9c179e"
          ],
          [
           0.4444444444444444,
           "#bd3786"
          ],
          [
           0.5555555555555556,
           "#d8576b"
          ],
          [
           0.6666666666666666,
           "#ed7953"
          ],
          [
           0.7777777777777778,
           "#fb9f3a"
          ],
          [
           0.8888888888888888,
           "#fdca26"
          ],
          [
           1,
           "#f0f921"
          ]
         ]
        },
        "legend": {
         "tracegroupgap": 0
        },
        "margin": {
         "t": 60
        },
        "template": {
         "data": {
          "bar": [
           {
            "error_x": {
             "color": "#2a3f5f"
            },
            "error_y": {
             "color": "#2a3f5f"
            },
            "marker": {
             "line": {
              "color": "#E5ECF6",
              "width": 0.5
             },
             "pattern": {
              "fillmode": "overlay",
              "size": 10,
              "solidity": 0.2
             }
            },
            "type": "bar"
           }
          ],
          "barpolar": [
           {
            "marker": {
             "line": {
              "color": "#E5ECF6",
              "width": 0.5
             },
             "pattern": {
              "fillmode": "overlay",
              "size": 10,
              "solidity": 0.2
             }
            },
            "type": "barpolar"
           }
          ],
          "carpet": [
           {
            "aaxis": {
             "endlinecolor": "#2a3f5f",
             "gridcolor": "white",
             "linecolor": "white",
             "minorgridcolor": "white",
             "startlinecolor": "#2a3f5f"
            },
            "baxis": {
             "endlinecolor": "#2a3f5f",
             "gridcolor": "white",
             "linecolor": "white",
             "minorgridcolor": "white",
             "startlinecolor": "#2a3f5f"
            },
            "type": "carpet"
           }
          ],
          "choropleth": [
           {
            "colorbar": {
             "outlinewidth": 0,
             "ticks": ""
            },
            "type": "choropleth"
           }
          ],
          "contour": [
           {
            "colorbar": {
             "outlinewidth": 0,
             "ticks": ""
            },
            "colorscale": [
             [
              0,
              "#0d0887"
             ],
             [
              0.1111111111111111,
              "#46039f"
             ],
             [
              0.2222222222222222,
              "#7201a8"
             ],
             [
              0.3333333333333333,
              "#9c179e"
             ],
             [
              0.4444444444444444,
              "#bd3786"
             ],
             [
              0.5555555555555556,
              "#d8576b"
             ],
             [
              0.6666666666666666,
              "#ed7953"
             ],
             [
              0.7777777777777778,
              "#fb9f3a"
             ],
             [
              0.8888888888888888,
              "#fdca26"
             ],
             [
              1,
              "#f0f921"
             ]
            ],
            "type": "contour"
           }
          ],
          "contourcarpet": [
           {
            "colorbar": {
             "outlinewidth": 0,
             "ticks": ""
            },
            "type": "contourcarpet"
           }
          ],
          "heatmap": [
           {
            "colorbar": {
             "outlinewidth": 0,
             "ticks": ""
            },
            "colorscale": [
             [
              0,
              "#0d0887"
             ],
             [
              0.1111111111111111,
              "#46039f"
             ],
             [
              0.2222222222222222,
              "#7201a8"
             ],
             [
              0.3333333333333333,
              "#9c179e"
             ],
             [
              0.4444444444444444,
              "#bd3786"
             ],
             [
              0.5555555555555556,
              "#d8576b"
             ],
             [
              0.6666666666666666,
              "#ed7953"
             ],
             [
              0.7777777777777778,
              "#fb9f3a"
             ],
             [
              0.8888888888888888,
              "#fdca26"
             ],
             [
              1,
              "#f0f921"
             ]
            ],
            "type": "heatmap"
           }
          ],
          "heatmapgl": [
           {
            "colorbar": {
             "outlinewidth": 0,
             "ticks": ""
            },
            "colorscale": [
             [
              0,
              "#0d0887"
             ],
             [
              0.1111111111111111,
              "#46039f"
             ],
             [
              0.2222222222222222,
              "#7201a8"
             ],
             [
              0.3333333333333333,
              "#9c179e"
             ],
             [
              0.4444444444444444,
              "#bd3786"
             ],
             [
              0.5555555555555556,
              "#d8576b"
             ],
             [
              0.6666666666666666,
              "#ed7953"
             ],
             [
              0.7777777777777778,
              "#fb9f3a"
             ],
             [
              0.8888888888888888,
              "#fdca26"
             ],
             [
              1,
              "#f0f921"
             ]
            ],
            "type": "heatmapgl"
           }
          ],
          "histogram": [
           {
            "marker": {
             "pattern": {
              "fillmode": "overlay",
              "size": 10,
              "solidity": 0.2
             }
            },
            "type": "histogram"
           }
          ],
          "histogram2d": [
           {
            "colorbar": {
             "outlinewidth": 0,
             "ticks": ""
            },
            "colorscale": [
             [
              0,
              "#0d0887"
             ],
             [
              0.1111111111111111,
              "#46039f"
             ],
             [
              0.2222222222222222,
              "#7201a8"
             ],
             [
              0.3333333333333333,
              "#9c179e"
             ],
             [
              0.4444444444444444,
              "#bd3786"
             ],
             [
              0.5555555555555556,
              "#d8576b"
             ],
             [
              0.6666666666666666,
              "#ed7953"
             ],
             [
              0.7777777777777778,
              "#fb9f3a"
             ],
             [
              0.8888888888888888,
              "#fdca26"
             ],
             [
              1,
              "#f0f921"
             ]
            ],
            "type": "histogram2d"
           }
          ],
          "histogram2dcontour": [
           {
            "colorbar": {
             "outlinewidth": 0,
             "ticks": ""
            },
            "colorscale": [
             [
              0,
              "#0d0887"
             ],
             [
              0.1111111111111111,
              "#46039f"
             ],
             [
              0.2222222222222222,
              "#7201a8"
             ],
             [
              0.3333333333333333,
              "#9c179e"
             ],
             [
              0.4444444444444444,
              "#bd3786"
             ],
             [
              0.5555555555555556,
              "#d8576b"
             ],
             [
              0.6666666666666666,
              "#ed7953"
             ],
             [
              0.7777777777777778,
              "#fb9f3a"
             ],
             [
              0.8888888888888888,
              "#fdca26"
             ],
             [
              1,
              "#f0f921"
             ]
            ],
            "type": "histogram2dcontour"
           }
          ],
          "mesh3d": [
           {
            "colorbar": {
             "outlinewidth": 0,
             "ticks": ""
            },
            "type": "mesh3d"
           }
          ],
          "parcoords": [
           {
            "line": {
             "colorbar": {
              "outlinewidth": 0,
              "ticks": ""
             }
            },
            "type": "parcoords"
           }
          ],
          "pie": [
           {
            "automargin": true,
            "type": "pie"
           }
          ],
          "scatter": [
           {
            "marker": {
             "colorbar": {
              "outlinewidth": 0,
              "ticks": ""
             }
            },
            "type": "scatter"
           }
          ],
          "scatter3d": [
           {
            "line": {
             "colorbar": {
              "outlinewidth": 0,
              "ticks": ""
             }
            },
            "marker": {
             "colorbar": {
              "outlinewidth": 0,
              "ticks": ""
             }
            },
            "type": "scatter3d"
           }
          ],
          "scattercarpet": [
           {
            "marker": {
             "colorbar": {
              "outlinewidth": 0,
              "ticks": ""
             }
            },
            "type": "scattercarpet"
           }
          ],
          "scattergeo": [
           {
            "marker": {
             "colorbar": {
              "outlinewidth": 0,
              "ticks": ""
             }
            },
            "type": "scattergeo"
           }
          ],
          "scattergl": [
           {
            "marker": {
             "colorbar": {
              "outlinewidth": 0,
              "ticks": ""
             }
            },
            "type": "scattergl"
           }
          ],
          "scattermapbox": [
           {
            "marker": {
             "colorbar": {
              "outlinewidth": 0,
              "ticks": ""
             }
            },
            "type": "scattermapbox"
           }
          ],
          "scatterpolar": [
           {
            "marker": {
             "colorbar": {
              "outlinewidth": 0,
              "ticks": ""
             }
            },
            "type": "scatterpolar"
           }
          ],
          "scatterpolargl": [
           {
            "marker": {
             "colorbar": {
              "outlinewidth": 0,
              "ticks": ""
             }
            },
            "type": "scatterpolargl"
           }
          ],
          "scatterternary": [
           {
            "marker": {
             "colorbar": {
              "outlinewidth": 0,
              "ticks": ""
             }
            },
            "type": "scatterternary"
           }
          ],
          "surface": [
           {
            "colorbar": {
             "outlinewidth": 0,
             "ticks": ""
            },
            "colorscale": [
             [
              0,
              "#0d0887"
             ],
             [
              0.1111111111111111,
              "#46039f"
             ],
             [
              0.2222222222222222,
              "#7201a8"
             ],
             [
              0.3333333333333333,
              "#9c179e"
             ],
             [
              0.4444444444444444,
              "#bd3786"
             ],
             [
              0.5555555555555556,
              "#d8576b"
             ],
             [
              0.6666666666666666,
              "#ed7953"
             ],
             [
              0.7777777777777778,
              "#fb9f3a"
             ],
             [
              0.8888888888888888,
              "#fdca26"
             ],
             [
              1,
              "#f0f921"
             ]
            ],
            "type": "surface"
           }
          ],
          "table": [
           {
            "cells": {
             "fill": {
              "color": "#EBF0F8"
             },
             "line": {
              "color": "white"
             }
            },
            "header": {
             "fill": {
              "color": "#C8D4E3"
             },
             "line": {
              "color": "white"
             }
            },
            "type": "table"
           }
          ]
         },
         "layout": {
          "annotationdefaults": {
           "arrowcolor": "#2a3f5f",
           "arrowhead": 0,
           "arrowwidth": 1
          },
          "autotypenumbers": "strict",
          "coloraxis": {
           "colorbar": {
            "outlinewidth": 0,
            "ticks": ""
           }
          },
          "colorscale": {
           "diverging": [
            [
             0,
             "#8e0152"
            ],
            [
             0.1,
             "#c51b7d"
            ],
            [
             0.2,
             "#de77ae"
            ],
            [
             0.3,
             "#f1b6da"
            ],
            [
             0.4,
             "#fde0ef"
            ],
            [
             0.5,
             "#f7f7f7"
            ],
            [
             0.6,
             "#e6f5d0"
            ],
            [
             0.7,
             "#b8e186"
            ],
            [
             0.8,
             "#7fbc41"
            ],
            [
             0.9,
             "#4d9221"
            ],
            [
             1,
             "#276419"
            ]
           ],
           "sequential": [
            [
             0,
             "#0d0887"
            ],
            [
             0.1111111111111111,
             "#46039f"
            ],
            [
             0.2222222222222222,
             "#7201a8"
            ],
            [
             0.3333333333333333,
             "#9c179e"
            ],
            [
             0.4444444444444444,
             "#bd3786"
            ],
            [
             0.5555555555555556,
             "#d8576b"
            ],
            [
             0.6666666666666666,
             "#ed7953"
            ],
            [
             0.7777777777777778,
             "#fb9f3a"
            ],
            [
             0.8888888888888888,
             "#fdca26"
            ],
            [
             1,
             "#f0f921"
            ]
           ],
           "sequentialminus": [
            [
             0,
             "#0d0887"
            ],
            [
             0.1111111111111111,
             "#46039f"
            ],
            [
             0.2222222222222222,
             "#7201a8"
            ],
            [
             0.3333333333333333,
             "#9c179e"
            ],
            [
             0.4444444444444444,
             "#bd3786"
            ],
            [
             0.5555555555555556,
             "#d8576b"
            ],
            [
             0.6666666666666666,
             "#ed7953"
            ],
            [
             0.7777777777777778,
             "#fb9f3a"
            ],
            [
             0.8888888888888888,
             "#fdca26"
            ],
            [
             1,
             "#f0f921"
            ]
           ]
          },
          "colorway": [
           "#636efa",
           "#EF553B",
           "#00cc96",
           "#ab63fa",
           "#FFA15A",
           "#19d3f3",
           "#FF6692",
           "#B6E880",
           "#FF97FF",
           "#FECB52"
          ],
          "font": {
           "color": "#2a3f5f"
          },
          "geo": {
           "bgcolor": "white",
           "lakecolor": "white",
           "landcolor": "#E5ECF6",
           "showlakes": true,
           "showland": true,
           "subunitcolor": "white"
          },
          "hoverlabel": {
           "align": "left"
          },
          "hovermode": "closest",
          "mapbox": {
           "style": "light"
          },
          "paper_bgcolor": "white",
          "plot_bgcolor": "#E5ECF6",
          "polar": {
           "angularaxis": {
            "gridcolor": "white",
            "linecolor": "white",
            "ticks": ""
           },
           "bgcolor": "#E5ECF6",
           "radialaxis": {
            "gridcolor": "white",
            "linecolor": "white",
            "ticks": ""
           }
          },
          "scene": {
           "xaxis": {
            "backgroundcolor": "#E5ECF6",
            "gridcolor": "white",
            "gridwidth": 2,
            "linecolor": "white",
            "showbackground": true,
            "ticks": "",
            "zerolinecolor": "white"
           },
           "yaxis": {
            "backgroundcolor": "#E5ECF6",
            "gridcolor": "white",
            "gridwidth": 2,
            "linecolor": "white",
            "showbackground": true,
            "ticks": "",
            "zerolinecolor": "white"
           },
           "zaxis": {
            "backgroundcolor": "#E5ECF6",
            "gridcolor": "white",
            "gridwidth": 2,
            "linecolor": "white",
            "showbackground": true,
            "ticks": "",
            "zerolinecolor": "white"
           }
          },
          "shapedefaults": {
           "line": {
            "color": "#2a3f5f"
           }
          },
          "ternary": {
           "aaxis": {
            "gridcolor": "white",
            "linecolor": "white",
            "ticks": ""
           },
           "baxis": {
            "gridcolor": "white",
            "linecolor": "white",
            "ticks": ""
           },
           "bgcolor": "#E5ECF6",
           "caxis": {
            "gridcolor": "white",
            "linecolor": "white",
            "ticks": ""
           }
          },
          "title": {
           "x": 0.05
          },
          "xaxis": {
           "automargin": true,
           "gridcolor": "white",
           "linecolor": "white",
           "ticks": "",
           "title": {
            "standoff": 15
           },
           "zerolinecolor": "white",
           "zerolinewidth": 2
          },
          "yaxis": {
           "automargin": true,
           "gridcolor": "white",
           "linecolor": "white",
           "ticks": "",
           "title": {
            "standoff": 15
           },
           "zerolinecolor": "white",
           "zerolinewidth": 2
          }
         }
        },
        "xaxis": {
         "anchor": "y",
         "domain": [
          0,
          1
         ],
         "type": "date"
        },
        "yaxis": {
         "anchor": "x",
         "autorange": "reversed",
         "domain": [
          0,
          1
         ],
         "title": {
          "text": "Date"
         }
        }
       }
      }
     },
     "metadata": {},
     "output_type": "display_data"
    }
   ],
   "source": [
    "def addTime(_month, _day, _sleep_hr, _sleep_min, _wake_hr, _wake_min, _time):\n",
    "     df.append(dict(\n",
    "          Date='{}/{}'.format(int(_month), int(_day)), \n",
    "          Sleep='2022-02-01 {}:{}:00'.format(_sleep_hr, _sleep_min),\n",
    "          Wake='2022-02-01 {}:{}:00'.format(_wake_hr, _wake_min),\n",
    "          Duration=_time))\n",
    "\n",
    "df = []\n",
    "addTime('02', '01', '05', '22', '09', '04', 3.5)\n",
    "addTime('02', '01', '22', '45', '23', '59', 5.2)\n",
    "addTime('02', '02', '00', '00', '04', '04', 5.2)\n",
    "addTime('02', '02', '11', '38', '13', '27', 6.3)\n",
    "addTime('02', '02', '14', '30', '15', '48', 6.3)\n",
    "addTime('02', '02', '16', '14', '19', '35', 6.3)\n",
    "addTime('02', '03', '12', '53', '20', '03', 5.9)\n",
    "addTime('02', '04', '17', '00', '23', '59', 8.4)\n",
    "addTime('02', '05', '00', '00', '01', '28', 8.4)\n",
    "addTime('02', '05', '20', '00', '22', '15', 2.2)\n",
    "addTime('02', '06', '04', '21', '08', '13', 4.8)\n",
    "addTime('02', '06', '19', '01', '23', '59', 5.1)\n",
    "addTime('02', '07', '00', '00', '01', '12', 5.1)\n",
    "addTime('02', '07', '05', '29', '10', '30', 5)\n",
    "addTime('02', '07', '22', '07', '23', '59', 6.7)\n",
    "addTime('02', '08', '00', '00', '04', '52', 6.7)\n",
    "addTime('02', '08', '21', '14', '23', '59', 7.25)\n",
    "addTime('02', '09', '00', '00', '04', '29', 7.25)\n",
    "addTime('02', '09', '19', '00', '23', '59', 10.08)\n",
    "addTime('02', '10', '00', '00', '05', '30', 10.08)\n",
    "addTime('02', '10', '23', '18', '23', '59', 7.1)\n",
    "addTime('02', '11', '00', '00', '06', '34', 7.1)\n",
    "addTime('02', '11', '23', '40', '23', '59', 9.65)\n",
    "addTime('02', '12', '00', '00', '09', '25', 9.65)\n",
    "\n",
    "\n",
    "colors = dict(L4='#ffdab9',\n",
    "              L6='#fbc4ab',\n",
    "              L8='#f8ad9d',\n",
    "              L10='#f4978e',\n",
    "              L12='#f08080',\n",
    "              M='#c9ada7')\n",
    "\n",
    "fig = px.timeline(df, color=\"Duration\", x_start=\"Sleep\", x_end=\"Wake\", y=\"Date\")\n",
    "fig.update_yaxes(autorange=\"reversed\")\n",
    "fig.show()"
   ]
  },
  {
   "cell_type": "code",
   "execution_count": null,
   "metadata": {},
   "outputs": [],
   "source": []
  }
 ],
 "metadata": {
  "interpreter": {
   "hash": "8944ac20941febd3898b0b9a08c0e7cafc7c4835a26d6ed6b5e365f07f1b2728"
  },
  "kernelspec": {
   "display_name": "Python 3.8.10 64-bit ('base': conda)",
   "language": "python",
   "name": "python3"
  },
  "language_info": {
   "codemirror_mode": {
    "name": "ipython",
    "version": 3
   },
   "file_extension": ".py",
   "mimetype": "text/x-python",
   "name": "python",
   "nbconvert_exporter": "python",
   "pygments_lexer": "ipython3",
   "version": "3.8.10"
  },
  "orig_nbformat": 4
 },
 "nbformat": 4,
 "nbformat_minor": 2
}
