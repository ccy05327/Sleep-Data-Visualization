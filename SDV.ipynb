{
 "cells": [
  {
   "cell_type": "code",
   "execution_count": 1,
   "metadata": {},
   "outputs": [],
   "source": [
    "import json\n",
    "import plotly.io as pio\n",
    "import plotly.express as px\n",
    "import pandas as pd\n",
    "\n",
    "file: str = './output/SDV.json'\n",
    "single_width: int = 15  # width for each bar\n"
   ]
  },
  {
   "cell_type": "code",
   "execution_count": 2,
   "metadata": {},
   "outputs": [],
   "source": [
    "def read_json(_file: str):\n",
    "    '''\n",
    "    Read a JSON file and return the data.\n",
    "\n",
    "    _file -- the JSON file to read from.\n",
    "\n",
    "    return -- a list of records in the data.\n",
    "    '''\n",
    "    with open(_file, 'r') as j:\n",
    "        _records: list = json.loads(j.read())\n",
    "    return _records\n",
    "\n",
    "\n",
    "def record_length(_file: str):\n",
    "    '''\n",
    "    Read a JSON file and return the length of the data inside.\n",
    "\n",
    "    _file -- JSON file to read from.\n",
    "\n",
    "    return -- integer\n",
    "    '''\n",
    "    with open(_file, 'r') as j:\n",
    "        _records = json.loads(j.read())\n",
    "    return len(_records['sleep_record'])\n",
    "\n",
    "\n",
    "display_days = record_length(file)\n",
    "\n",
    "def draw_save(_df: pd.DataFrame, _file: str):\n",
    "    '''\n",
    "    Read a file and a DataFrame, produce and save a timeline chart. \n",
    "\n",
    "    _df -- DataFrame containing the data.\n",
    "\n",
    "    _file -- file name to save the image to.\n",
    "\n",
    "    return -- nothing.\n",
    "    '''\n",
    "    fig = px.timeline(_df,\n",
    "                      color=\"Duration\",\n",
    "                      x_start=\"Sleep\",\n",
    "                      x_end=\"Wake\",\n",
    "                      y=\"Date\",\n",
    "                      color_continuous_scale=['#ffff3f', '#52b69a', '#0077b6'],\n",
    "                      width=600, height=single_width*display_days)\n",
    "    fig.update_yaxes(autorange=\"reversed\")\n",
    "    pio.write_image(fig, _file)\n"
   ]
  },
  {
   "cell_type": "code",
   "execution_count": 14,
   "metadata": {},
   "outputs": [],
   "source": [
    "records = read_json(file)\n",
    "df = []\n",
    "# -display_days-5:-24\n",
    "for i in records['sleep_record'][19:]:\n",
    "    record = dict(\n",
    "        Date='{}/{}'.format(i['date']['month'], i['date']['day']),\n",
    "        Sleep='2022-06-01 {}:{}:00'.format(i['sleep']['hour'],\n",
    "                                           i['sleep']['min']),\n",
    "        Wake='2022-06-01 {}:{}:00'.format(i['wake']['hour'],\n",
    "                                          i['wake']['min']),\n",
    "        Duration=i['duration'])\n",
    "    df.append(record)\n",
    "    \n",
    "draw_save(df, './output/SDV.png')\n"
   ]
  },
  {
   "cell_type": "code",
   "execution_count": null,
   "metadata": {},
   "outputs": [],
   "source": []
  }
 ],
 "metadata": {
  "kernelspec": {
   "display_name": "Python 3.8.10 ('base')",
   "language": "python",
   "name": "python3"
  },
  "language_info": {
   "codemirror_mode": {
    "name": "ipython",
    "version": 3
   },
   "file_extension": ".py",
   "mimetype": "text/x-python",
   "name": "python",
   "nbconvert_exporter": "python",
   "pygments_lexer": "ipython3",
   "version": "3.9.7"
  },
  "orig_nbformat": 4,
  "vscode": {
   "interpreter": {
    "hash": "e6f0f18e929f98629b0ad9187bbe400905e62f038b2875773787324ab39080a5"
   }
  }
 },
 "nbformat": 4,
 "nbformat_minor": 2
}
