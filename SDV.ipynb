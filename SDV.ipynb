{
 "cells": [
  {
   "cell_type": "code",
   "execution_count": 4,
   "metadata": {},
   "outputs": [],
   "source": [
    "import plotly.figure_factory as ff\n",
    "import plotly.graph_objs as go"
   ]
  },
  {
   "cell_type": "markdown",
   "metadata": {},
   "source": [
    "### January Record\n",
    "\n",
    "<details>\n",
    "<summary>January Record</summary>\n",
    "<br>\n",
    "    dict(Task='2/1', Start='2022-02-01 3:39:00', Finish='2022-02-01 7:55:00', Resource='Meh'),\n",
    "    dict(Task='2/1', Start='2022-02-01 9:39:00', Finish='2022-02-01 11:50:00', Resource='Meh'),\n",
    "    dict(Task='2/2', Start='2022-02-01 1:33:00', Finish='2022-02-01 11:45:00', Resource='Meh'),\n",
    "    dict(Task='2/3', Start='2022-02-01 4:22:00', Finish='2022-02-01 11:45:00', Resource='Usual'),\n",
    "    dict(Task='2/4', Start='2022-02-01 4:13:00', Finish='2022-02-01 14:17:00', Resource='More'),\n",
    "    dict(Task='2/5', Start='2022-02-01 9:39:00', Finish='2022-02-01 17:05:00', Resource='Usual'),\n",
    "    dict(Task='2/6', Start='2022-02-01 8:37:00', Finish='2022-02-01 15:45:00', Resource='Usual'),\n",
    "    dict(Task='2/7', Start='2022-02-01 10:48:00', Finish='2022-02-01 18:59:00', Resource='Usual'),\n",
    "    dict(Task='2/8', Start='2022-02-01 10:46:00', Finish='2022-02-01 18:59:00', Resource='Usual'),\n",
    "    dict(Task='2/9', Start='2022-02-01 13:40:00', Finish='2022-02-01 19:20:00', Resource='Lack'),\n",
    "    dict(Task='2/10', Start='2022-02-01 13:52:00', Finish='2022-02-01 22:25:00', Resource='Usual'),\n",
    "    dict(Task='2/11', Start='2022-02-01 19:00:00', Finish='2022-02-01 23:59:00', Resource='Usual'),\n",
    "    dict(Task='2/12', Start='2022-02-01 00:00:00', Finish='2022-02-01 3:50:00', Resource='Usual'),\n",
    "    dict(Task='2/12', Start='2022-02-01 22:04:00', Finish='2022-02-01 23:59:00', Resource='Usual'),\n",
    "    dict(Task='2/13', Start='2022-02-01 00:00:00', Finish='2022-02-01 4:32:00', Resource='Usual'),\n",
    "    dict(Task='2/13', Start='2022-02-01 19:34:00', Finish='2022-02-01 23:59:00', Resource='Usual'),\n",
    "    dict(Task='2/14', Start='2022-02-01 00:00:00', Finish='2022-02-01 5:42:00', Resource='Usual'),\n",
    "    dict(Task='2/14', Start='2022-02-01 22:46:00', Finish='2022-02-01 23:59:00', Resource='Usual'),\n",
    "    dict(Task='2/15', Start='2022-02-01 00:00:00', Finish='2022-02-01 6:52:00', Resource='Usual'),\n",
    "    dict(Task='2/15', Start='2022-02-01 21:30:00', Finish='2022-02-01 23:59:00', Resource='Usual'),\n",
    "    dict(Task='2/16', Start='2022-02-01 00:00:00', Finish='2022-02-01 6:29:00', Resource='Usual'),\n",
    "    dict(Task='2/16', Start='2022-02-01 22:39:00', Finish='2022-02-01 23:59:00', Resource='Usual'),\n",
    "    dict(Task='2/17', Start='2022-02-01 00:00:00', Finish='2022-02-01 6:57:00', Resource='Usual'),\n",
    "    dict(Task='2/17', Start='2022-02-01 23:16:00', Finish='2022-02-01 23:59:00', Resource='Meh'),\n",
    "    dict(Task='2/18', Start='2022-02-01 00:00:00', Finish='2022-02-01 7:59:00', Resource='Meh'),\n",
    "    dict(Task='2/18', Start='2022-02-01 23:08:00', Finish='2022-02-01 23:59:00', Resource='Meh'),\n",
    "    dict(Task='2/19', Start='2022-02-01 00:00:00', Finish='2022-02-01 7:42:00', Resource='Meh'),\n",
    "    dict(Task='2/19', Start='2022-02-01 23:32:00', Finish='2022-02-01 23:59:00', Resource='Meh'),\n",
    "    dict(Task='2/20', Start='2022-02-01 00:00:00', Finish='2022-02-01 7:35:00', Resource='Meh'),\n",
    "    dict(Task='2/20', Start='2022-02-01 23:51:00', Finish='2022-02-01 23:59:00', Resource='Meh'),\n",
    "    dict(Task='2/21', Start='2022-02-01 00:00:00', Finish='2022-02-01 7:46:00', Resource='Meh'),\n",
    "    dict(Task='2/22', Start='2022-02-01 00:40:00', Finish='2022-02-01 7:55:00', Resource='Meh'),\n",
    "    dict(Task='2/22', Start='2022-02-01 23:50:00', Finish='2022-02-01 23:59:00', Resource='Usual'),\n",
    "    dict(Task='2/23', Start='2022-02-01 00:00:00', Finish='2022-02-01 7:57:00', Resource='Usual'),\n",
    "    dict(Task='2/24', Start='2022-02-01 00:12:00', Finish='2022-02-01 7:49:00', Resource='Meh'),\n",
    "    dict(Task='2/25', Start='2022-02-01 01:02:00', Finish='2022-02-01 8:01:00', Resource='Meh'),\n",
    "    dict(Task='2/26', Start='2022-02-01 02:06:00', Finish='2022-02-01 12:10:00', Resource='Usual'),\n",
    "    dict(Task='2/27', Start='2022-02-01 7:51:00', Finish='2022-02-01 12:27:00', Resource='Usual'),\n",
    "    dict(Task='2/28', Start='2022-02-01 10:40:00', Finish='2022-02-01 17:49:00', Resource='Usual'),\n",
    "    dict(Task='2/29', Start='2022-02-01 9:31:00', Finish='2022-02-01 18:02:00', Resource='Meh'),\n",
    "    dict(Task='2/30', Start='2022-02-01 9:59:00', Finish='2022-02-01 18:08:00', Resource='Usual'),\n",
    "    dict(Task='2/31', Start='2022-02-01 08:01:00', Finish='2022-02-01 13:50:00', Resource='Meh')\n",
    "</details>"
   ]
  },
  {
   "cell_type": "code",
   "execution_count": 5,
   "metadata": {},
   "outputs": [
    {
     "data": {
      "application/vnd.jupyter.widget-view+json": {
       "model_id": "5a0005dfc116411a804e0fca8740ac65",
       "version_major": 2,
       "version_minor": 0
      },
      "text/plain": [
       "FigureWidget({\n",
       "    'data': [{'fill': 'toself',\n",
       "              'fillcolor': 'rgb(0, 206, 209)',\n",
       "              'h…"
      ]
     },
     "metadata": {},
     "output_type": "display_data"
    }
   ],
   "source": [
    "def addTime(_month, _day, _sleep_hr, _sleep_min, _wake_hr, _wake_min, _legend='Usual'):\n",
    "     df.append(dict(\n",
    "          Task='{}/{}'.format(int(_month), int(_day)), \n",
    "          Start='2022-{}-01 {}:{}:00'.format(_month, _sleep_hr, _sleep_min),\n",
    "          Finish='2022-{}-01 {}:{}:00'.format(_month, _wake_hr, _wake_min),\n",
    "          Resource=_legend))\n",
    "\n",
    "df = []\n",
    "addTime('02', '01', '05', '22', '09', '04', 'Lack')\n",
    "addTime('02', '01', '22', '45', '23', '59', 'Meh')\n",
    "addTime('02', '02', '00', '00', '04', '04', 'Meh')\n",
    "addTime('02', '02', '11', '38', '13', '27', 'Meh')\n",
    "addTime('02', '02', '14', '30', '15', '48', 'Meh')\n",
    "addTime('02', '02', '16', '14', '19', '35', 'Meh')\n",
    "addTime('02', '03', '12', '53', '20', '03')\n",
    "\n",
    "colors = dict(Usual='rgb(0, 206, 209)',\n",
    "     Lack='rgb(240, 128, 128)',\n",
    "     More='rgb(221, 160, 221)',\n",
    "     Meh='rgb(200, 200, 200)')\n",
    "\n",
    "fig = ff.create_gantt(df, colors=colors, index_col='Resource', title='SDV',\n",
    "    show_colorbar=False, bar_width=0.4, showgrid_x=True, showgrid_y=False, group_tasks=True)\n",
    "go.FigureWidget(fig)"
   ]
  },
  {
   "cell_type": "code",
   "execution_count": null,
   "metadata": {},
   "outputs": [],
   "source": []
  }
 ],
 "metadata": {
  "interpreter": {
   "hash": "8944ac20941febd3898b0b9a08c0e7cafc7c4835a26d6ed6b5e365f07f1b2728"
  },
  "kernelspec": {
   "display_name": "Python 3.8.10 64-bit ('base': conda)",
   "language": "python",
   "name": "python3"
  },
  "language_info": {
   "codemirror_mode": {
    "name": "ipython",
    "version": 3
   },
   "file_extension": ".py",
   "mimetype": "text/x-python",
   "name": "python",
   "nbconvert_exporter": "python",
   "pygments_lexer": "ipython3",
   "version": "3.10.2"
  },
  "orig_nbformat": 4
 },
 "nbformat": 4,
 "nbformat_minor": 2
}
